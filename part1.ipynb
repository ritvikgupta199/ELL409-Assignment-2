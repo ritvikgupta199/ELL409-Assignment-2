{
 "cells": [
  {
   "cell_type": "code",
   "execution_count": 1,
   "id": "64b1b43f",
   "metadata": {},
   "outputs": [],
   "source": [
    "from tqdm import tqdm\n",
    "import numpy as np\n",
    "import matplotlib.pyplot as plt\n",
    "import utils\n",
    "from trainer import train_svm\n",
    "\n",
    "data_path = 'data/2019MT10512.csv'\n",
    "data_split = 0.7"
   ]
  },
  {
   "cell_type": "code",
   "execution_count": 2,
   "id": "cfb4b226",
   "metadata": {},
   "outputs": [
    {
     "name": "stdout",
     "output_type": "stream",
     "text": [
      "Using LIBSVM Model:\n",
      "Training SVM\n",
      "Time Taken: 0.00996088981628418s\n",
      "Training Accuracy: 100.0\n",
      "Validation Accuracy: 98.85057471264368\n",
      "Using CVX Model:\n",
      "Training SVM\n",
      "     pcost       dcost       gap    pres   dres\n",
      " 0: -2.5313e+02 -2.1369e+04  6e+04  7e-01  3e-13\n",
      " 1: -1.3452e+02 -5.4972e+03  1e+04  9e-02  3e-13\n",
      " 2: -6.6065e+01 -2.3640e+03  4e+03  4e-02  2e-13\n",
      " 3: -6.7813e+00 -9.8407e+02  2e+03  1e-02  1e-13\n",
      " 4:  3.3139e+01 -6.2400e+02  9e+02  5e-03  5e-14\n",
      " 5:  1.6275e+01 -5.6129e+01  8e+01  2e-04  3e-14\n",
      " 6:  2.7667e+00 -1.8989e+01  2e+01  6e-05  2e-14\n",
      " 7:  1.5547e+00 -1.9084e+01  2e+01  5e-05  1e-14\n",
      " 8: -4.2203e+00 -1.3482e+01  9e+00  8e-06  2e-14\n",
      " 9: -6.1887e+00 -1.0908e+01  5e+00  1e-06  2e-14\n",
      "10: -7.7394e+00 -8.4353e+00  7e-01  2e-07  2e-14\n",
      "11: -7.9931e+00 -8.0249e+00  3e-02  1e-09  3e-14\n",
      "12: -8.0074e+00 -8.0077e+00  3e-04  1e-11  2e-14\n",
      "13: -8.0076e+00 -8.0076e+00  3e-06  1e-13  2e-14\n",
      "Optimal solution found.\n",
      "Time Taken: 0.07532715797424316s\n",
      "Training Accuracy: 96.03960396039604\n",
      "Validation Accuracy: 97.1264367816092\n"
     ]
    }
   ],
   "source": [
    "# Comparing both the implementations\n",
    "# For Linear Kernel with C=10\n",
    "print('Using LIBSVM Model:')\n",
    "_, _ = train_svm(data_path, data_split, 25, False, (0,1), 'libsvm', 10, 'linear', None, False)\n",
    "\n",
    "print('Using CVX Model:')\n",
    "_, _ = train_svm(data_path, data_split, 25, False, (0,1), 'cvxopt', 10, 'linear', None, False)"
   ]
  },
  {
   "cell_type": "code",
   "execution_count": 3,
   "id": "36c1c3b8",
   "metadata": {},
   "outputs": [
    {
     "name": "stdout",
     "output_type": "stream",
     "text": [
      "Using LIBSVM Model:\n",
      "Training SVM\n",
      "Time Taken: 0.017375946044921875s\n",
      "Training Accuracy: 100.0\n",
      "Validation Accuracy: 97.12643678160919\n",
      "Using CVX Model:\n",
      "Training SVM\n",
      "     pcost       dcost       gap    pres   dres\n",
      " 0:  3.0165e+02 -5.4108e+03  1e+04  4e-01  2e-15\n",
      " 1:  1.8193e+02 -7.5550e+02  9e+02  7e-14  2e-15\n",
      " 2: -2.6475e+01 -1.6898e+02  1e+02  2e-14  1e-15\n",
      " 3: -5.2782e+01 -6.6475e+01  1e+01  3e-15  1e-15\n",
      " 4: -5.4738e+01 -5.6674e+01  2e+00  2e-14  9e-16\n",
      " 5: -5.5123e+01 -5.5455e+01  3e-01  2e-14  9e-16\n",
      " 6: -5.5208e+01 -5.5248e+01  4e-02  9e-15  9e-16\n",
      " 7: -5.5218e+01 -5.5221e+01  2e-03  1e-14  8e-16\n",
      " 8: -5.5219e+01 -5.5219e+01  5e-05  3e-14  8e-16\n",
      "Optimal solution found.\n",
      "Time Taken: 0.05219221115112305s\n",
      "Training Accuracy: 100.0\n",
      "Validation Accuracy: 97.1264367816092\n"
     ]
    }
   ],
   "source": [
    "# Comparing both the implementations\n",
    "# For Gaussian Kernel with C=5, Gamma = 0.1\n",
    "print('Using LIBSVM Model:')\n",
    "_, _ = train_svm(data_path, data_split, 25, False, (0,1), 'libsvm', 5, 'gaussian', 0.1, False)\n",
    "\n",
    "print('Using CVX Model:')\n",
    "_, _ = train_svm(data_path, data_split, 25, False, (0,1), 'cvxopt', 5, 'gaussian', 0.1, False)"
   ]
  },
  {
   "cell_type": "code",
   "execution_count": 4,
   "id": "2ee942e7",
   "metadata": {},
   "outputs": [
    {
     "name": "stdout",
     "output_type": "stream",
     "text": [
      "Training SVM\n",
      "Time Taken: 0.009486198425292969s\n",
      "Training Accuracy: 100.0\n",
      "Validation Accuracy: 100.0\n"
     ]
    }
   ],
   "source": [
    "# Binary Classification\n",
    "# For (1,2)\n",
    "_, _ = train_svm(data_path, data_split, 25, False, (1,2), 'libsvm', 5, 'linear', None, False)"
   ]
  },
  {
   "cell_type": "code",
   "execution_count": 5,
   "id": "55279a57",
   "metadata": {},
   "outputs": [
    {
     "name": "stdout",
     "output_type": "stream",
     "text": [
      "Using Linear Kernel\n",
      "Training SVM\n",
      "Time Taken: 0.01790618896484375s\n",
      "Training Accuracy: 96.1734693877551\n",
      "Validation Accuracy: 86.47058823529412\n",
      "Using Gaussian Kernel\n",
      "Training SVM\n",
      "Time Taken: 0.01173090934753418s\n",
      "Training Accuracy: 100.0\n",
      "Validation Accuracy: 99.41176470588235\n"
     ]
    }
   ],
   "source": [
    "# Binary Classification\n",
    "# For (6,9)\n",
    "print('Using Linear Kernel')\n",
    "_, _ = train_svm(data_path, data_split, 25, False, (6,9), 'libsvm', 5, 'linear', None, False)\n",
    "\n",
    "print('Using Gaussian Kernel')\n",
    "_, _ = train_svm(data_path, data_split, 25, False, (6,9), 'libsvm', 5, 'gaussian', 0.05, False)"
   ]
  },
  {
   "cell_type": "code",
   "execution_count": 6,
   "id": "3d2e8d20",
   "metadata": {},
   "outputs": [
    {
     "name": "stdout",
     "output_type": "stream",
     "text": [
      "Using Gaussian Kernel\n",
      "Training SVM\n",
      "Time Taken: 0.011576175689697266s\n",
      "Training Accuracy: 100.0\n",
      "Validation Accuracy: 99.4413407821229\n",
      "Using Linear Kernel\n",
      "Training SVM\n",
      "Time Taken: 0.009034156799316406s\n",
      "Training Accuracy: 100.0\n",
      "Validation Accuracy: 100.0\n"
     ]
    }
   ],
   "source": [
    "# Binary Classification\n",
    "# For (7,8)\n",
    "print('Using Gaussian Kernel')\n",
    "_, _ = train_svm(data_path, data_split, 25, False, (7,8), 'libsvm', 5, 'gaussian', 0.05, False)\n",
    "\n",
    "print('Using Linear Kernel')\n",
    "_, _ = train_svm(data_path, data_split, 25, False, (7,8), 'libsvm', 5, 'linear', None, False)"
   ]
  },
  {
   "cell_type": "code",
   "execution_count": 7,
   "id": "3ee50f84",
   "metadata": {},
   "outputs": [
    {
     "name": "stdout",
     "output_type": "stream",
     "text": [
      "For (1,2)\n",
      "Training SVM\n",
      "Time Taken: 0.004906892776489258s\n",
      "Training Accuracy: 100.0\n",
      "Validation Accuracy: 98.94179894179894\n",
      "For (6,9)\n",
      "Training SVM\n",
      "Time Taken: 0.005506992340087891s\n",
      "Training Accuracy: 99.74489795918367\n",
      "Validation Accuracy: 95.88235294117648\n",
      "For (7,8)\n",
      "Training SVM\n",
      "Time Taken: 0.006543874740600586s\n",
      "Training Accuracy: 100.0\n",
      "Validation Accuracy: 98.88268156424581\n"
     ]
    }
   ],
   "source": [
    "# Reducing number of features\n",
    "print('For (1,2)')\n",
    "_, _ = train_svm(data_path, data_split, 10, False, (1,2), 'libsvm', 5, 'linear', None, False)\n",
    "\n",
    "print('For (6,9)')\n",
    "_, _ = train_svm(data_path, data_split, 10, False, (6,9), 'libsvm', 5, 'gaussian', 0.05, False)\n",
    "\n",
    "print('For (7,8)')\n",
    "_, _ = train_svm(data_path, data_split, 10, False, (7,8), 'libsvm', 5, 'linear', None, False)"
   ]
  },
  {
   "cell_type": "code",
   "execution_count": 8,
   "id": "3687117a",
   "metadata": {},
   "outputs": [
    {
     "name": "stderr",
     "output_type": "stream",
     "text": [
      "100%|██████████| 11/11 [00:22<00:00,  2.02s/it]"
     ]
    },
    {
     "name": "stdout",
     "output_type": "stream",
     "text": [
      "C = 0.0630957344480193\n",
      "Highest Validation Accuracy: 89.15929203539822\n"
     ]
    },
    {
     "name": "stderr",
     "output_type": "stream",
     "text": [
      "\n"
     ]
    },
    {
     "data": {
      "image/png": "[encoded data removed]",
      "text/plain": [
       "<Figure size 432x288 with 1 Axes>"
      ]
     },
     "metadata": {
      "needs_background": "light"
     },
     "output_type": "display_data"
    }
   ],
   "source": [
    "# Finding optimal C for Multiclass classification\n",
    "log = np.linspace(-3,3,11)\n",
    "c_list = 10**log\n",
    "\n",
    "t_acc, v_acc = [], []\n",
    "max_acc, c_max = 0, None\n",
    "for c in tqdm(c_list):\n",
    "    train_acc, valid_acc = train_svm(data_path, data_split, 25, True, None, 'libsvm', c, 'linear', None, True)\n",
    "    t_acc.append(train_acc)\n",
    "    v_acc.append(valid_acc)\n",
    "    if valid_acc > max_acc:\n",
    "        max_acc, c_max = valid_acc, c\n",
    "        \n",
    "print(f'C = {c_max}')\n",
    "print(f'Highest Validation Accuracy: {max_acc}')\n",
    "plt.plot(log, t_acc, label='Training Accuracy')\n",
    "plt.plot(log, v_acc, label='Validation Accuracy')\n",
    "plt.ylabel('Accuracy (\\%)')\n",
    "plt.xlabel('log(C)')\n",
    "plt.legend()\n",
    "plt.show()"
   ]
  },
  {
   "cell_type": "code",
   "execution_count": 9,
   "id": "dfd9dcfc",
   "metadata": {},
   "outputs": [
    {
     "name": "stderr",
     "output_type": "stream",
     "text": [
      "100%|██████████| 11/11 [00:07<00:00,  1.38it/s]"
     ]
    },
    {
     "name": "stdout",
     "output_type": "stream",
     "text": [
      "C = 0.015848931924611134\n",
      "Highest Validation Accuracy: 94.91150442477876\n"
     ]
    },
    {
     "name": "stderr",
     "output_type": "stream",
     "text": [
      "\n"
     ]
    },
    {
     "data": {
      "image/png": "[encoded data removed]",
      "text/plain": [
       "<Figure size 432x288 with 1 Axes>"
      ]
     },
     "metadata": {
      "needs_background": "light"
     },
     "output_type": "display_data"
    }
   ],
   "source": [
    "# Finding optimal C for Multiclass classification\n",
    "log = np.linspace(-3,3,11)\n",
    "c_list = 10**log\n",
    "\n",
    "t_acc, v_acc = [], []\n",
    "max_acc, c_max = 0, None\n",
    "for c in tqdm(c_list):\n",
    "    train_acc, valid_acc = train_svm(data_path, data_split, 25, True, None, 'libsvm', 5, 'gaussian', c, True)\n",
    "    t_acc.append(train_acc)\n",
    "    v_acc.append(valid_acc)\n",
    "    if valid_acc > max_acc:\n",
    "        max_acc, c_max = valid_acc, c\n",
    "        \n",
    "print(f'C = {c_max}')\n",
    "print(f'Highest Validation Accuracy: {max_acc}')\n",
    "plt.plot(log, t_acc, label='Training Accuracy')\n",
    "plt.plot(log, v_acc, label='Validation Accuracy')\n",
    "plt.ylabel('Accuracy (\\%)')\n",
    "plt.xlabel('log(C)')\n",
    "plt.legend()\n",
    "plt.show()\n"
   ]
  },
  {
   "cell_type": "code",
   "execution_count": 10,
   "id": "a800abea",
   "metadata": {},
   "outputs": [
    {
     "name": "stdout",
     "output_type": "stream",
     "text": [
      "For Linear Kernel\n",
      "Training SVM\n",
      "Time Taken: 0.09455585479736328s\n",
      "Training Accuracy: 92.12786259541986\n",
      "Validation Accuracy: 88.93805309734513\n",
      "For Gaussian Kernel\n",
      "Training SVM\n",
      "Time Taken: 0.1259171962738037s\n",
      "Training Accuracy: 99.76145038167938\n",
      "Validation Accuracy: 95.02212389380531\n"
     ]
    }
   ],
   "source": [
    "# Multiclass classification\n",
    "print('For Linear Kernel')\n",
    "_, _ = train_svm(data_path, data_split, 25, True, None, 'libsvm', 0.1, 'linear', None, False)\n",
    "\n",
    "print('For Gaussian Kernel')\n",
    "_, _ = train_svm(data_path, data_split, 25, True, None, 'libsvm', 5, 'gaussian', 0.025, False)"
   ]
  },
  {
   "cell_type": "code",
   "execution_count": 11,
   "id": "24fcfbf7",
   "metadata": {},
   "outputs": [
    {
     "name": "stdout",
     "output_type": "stream",
     "text": [
      "For Linear Kernel\n",
      "Training SVM\n",
      "Time Taken: 0.08969497680664062s\n",
      "Training Accuracy: 84.87595419847328\n",
      "Validation Accuracy: 81.19469026548673\n",
      "For Gaussian Kernel\n",
      "Training SVM\n",
      "Time Taken: 0.07121109962463379s\n",
      "Training Accuracy: 94.8473282442748\n",
      "Validation Accuracy: 88.93805309734513\n"
     ]
    }
   ],
   "source": [
    "# Multiclass classification\n",
    "# Reducing number of features\n",
    "print('For Linear Kernel')\n",
    "_, _ = train_svm(data_path, data_split, 10, True, None, 'libsvm', 0.1, 'linear', None, False)\n",
    "\n",
    "print('For Gaussian Kernel')\n",
    "_, _ = train_svm(data_path, data_split, 10, True, None, 'libsvm', 5, 'gaussian', 0.025, False)"
   ]
  },
  {
   "cell_type": "code",
   "execution_count": 12,
   "id": "bec9099f",
   "metadata": {},
   "outputs": [
    {
     "name": "stdout",
     "output_type": "stream",
     "text": [
      "Using LIBSVM Model:\n",
      "Training SVM\n",
      "Time Taken: 0.009339094161987305s\n",
      "Training Accuracy: 100.0\n",
      "Validation Accuracy: 98.85057471264368\n",
      "Using CVX Model:\n",
      "Training SVM\n",
      "     pcost       dcost       gap    pres   dres\n",
      " 0: -2.5313e+02 -2.1369e+04  6e+04  7e-01  3e-13\n",
      " 1: -1.3452e+02 -5.4972e+03  1e+04  9e-02  3e-13\n",
      " 2: -6.6065e+01 -2.3640e+03  4e+03  4e-02  2e-13\n",
      " 3: -6.7813e+00 -9.8407e+02  2e+03  1e-02  1e-13\n",
      " 4:  3.3139e+01 -6.2400e+02  9e+02  5e-03  5e-14\n",
      " 5:  1.6275e+01 -5.6129e+01  8e+01  2e-04  3e-14\n",
      " 6:  2.7667e+00 -1.8989e+01  2e+01  6e-05  2e-14\n",
      " 7:  1.5547e+00 -1.9084e+01  2e+01  5e-05  1e-14\n",
      " 8: -4.2203e+00 -1.3482e+01  9e+00  8e-06  2e-14\n",
      " 9: -6.1887e+00 -1.0908e+01  5e+00  1e-06  2e-14\n",
      "10: -7.7394e+00 -8.4353e+00  7e-01  2e-07  2e-14\n",
      "11: -7.9931e+00 -8.0249e+00  3e-02  1e-09  3e-14\n",
      "12: -8.0074e+00 -8.0077e+00  3e-04  1e-11  2e-14\n",
      "13: -8.0076e+00 -8.0076e+00  3e-06  1e-13  2e-14\n",
      "Optimal solution found.\n",
      "Time Taken: 0.11203312873840332s\n",
      "Training Accuracy: 96.03960396039604\n",
      "Validation Accuracy: 97.1264367816092\n",
      "Using SMO:\n",
      "Training SVM\n",
      "Time Taken: 76.11838793754578s\n",
      "Training Accuracy: 89.85148514851485\n",
      "Validation Accuracy: 90.22988505747126\n"
     ]
    }
   ],
   "source": [
    "# Simplified SMO\n",
    "# For Linear Kernel with C=10\n",
    "print('Using LIBSVM Model:')\n",
    "_, _ = train_svm(data_path, data_split, 25, False, (0,1), 'libsvm', 10, 'linear', None, False)\n",
    "\n",
    "print('Using CVX Model:')\n",
    "_, _ = train_svm(data_path, data_split, 25, False, (0,1), 'cvxopt', 10, 'linear', None, False)\n",
    "\n",
    "print('Using SMO:')\n",
    "_, _ = train_svm(data_path, data_split, 25, False, (0,1), 'smo', 10, 'linear', None, False)"
   ]
  },
  {
   "cell_type": "code",
   "execution_count": 13,
   "id": "3fea2672",
   "metadata": {},
   "outputs": [
    {
     "name": "stdout",
     "output_type": "stream",
     "text": [
      "Using LIBSVM Model:\n",
      "Training SVM\n",
      "Time Taken: 0.017300844192504883s\n",
      "Training Accuracy: 100.0\n",
      "Validation Accuracy: 97.12643678160919\n",
      "Using CVX Model:\n",
      "Training SVM\n",
      "     pcost       dcost       gap    pres   dres\n",
      " 0:  3.0165e+02 -5.4108e+03  1e+04  4e-01  2e-15\n",
      " 1:  1.8193e+02 -7.5550e+02  9e+02  7e-14  2e-15\n",
      " 2: -2.6475e+01 -1.6898e+02  1e+02  2e-14  1e-15\n",
      " 3: -5.2782e+01 -6.6475e+01  1e+01  3e-15  1e-15\n",
      " 4: -5.4738e+01 -5.6674e+01  2e+00  2e-14  9e-16\n",
      " 5: -5.5123e+01 -5.5455e+01  3e-01  2e-14  9e-16\n",
      " 6: -5.5208e+01 -5.5248e+01  4e-02  9e-15  9e-16\n",
      " 7: -5.5218e+01 -5.5221e+01  2e-03  1e-14  8e-16\n",
      " 8: -5.5219e+01 -5.5219e+01  5e-05  3e-14  8e-16\n",
      "Optimal solution found.\n",
      "Time Taken: 0.10423707962036133s\n",
      "Training Accuracy: 100.0\n",
      "Validation Accuracy: 97.1264367816092\n",
      "Using SMO:\n",
      "Training SVM\n",
      "Time Taken: 3.4712319374084473s\n",
      "Training Accuracy: 100.0\n",
      "Validation Accuracy: 98.27586206896552\n"
     ]
    }
   ],
   "source": [
    "# Simplified SMO\n",
    "# For Gaussian Kernel with C=5, Gamma = 0.1\n",
    "print('Using LIBSVM Model:')\n",
    "_, _ = train_svm(data_path, data_split, 25, False, (0,1), 'libsvm', 5, 'gaussian', 0.1, False)\n",
    "\n",
    "print('Using CVX Model:')\n",
    "_, _ = train_svm(data_path, data_split, 25, False, (0,1), 'cvxopt', 5, 'gaussian', 0.1, False)\n",
    "\n",
    "print('Using SMO:')\n",
    "_, _ = train_svm(data_path, data_split, 25, False, (0,1), 'smo', 5, 'gaussian', 0.1, False)"
   ]
  },
  {
   "cell_type": "code",
   "execution_count": null,
   "id": "2f40c5f2",
   "metadata": {},
   "outputs": [],
   "source": []
  }
 ],
 "metadata": {
  "kernelspec": {
   "display_name": "Python 3",
   "language": "python",
   "name": "python3"
  },
  "language_info": {
   "codemirror_mode": {
    "name": "ipython",
    "version": 3
   },
   "file_extension": ".py",
   "mimetype": "text/x-python",
   "name": "python",
   "nbconvert_exporter": "python",
   "pygments_lexer": "ipython3",
   "version": "3.8.8"
  }
 },
 "nbformat": 4,
 "nbformat_minor": 5
}
