{
 "cells": [
  {
   "cell_type": "code",
   "execution_count": 1,
   "id": "34b633b7",
   "metadata": {},
   "outputs": [],
   "source": [
    "import numpy as np\n",
    "import utils\n",
    "from trainer import train_svm, train_test_svm\n",
    "\n",
    "train_data_path = 'data/train_set.csv'\n",
    "test_data_path = 'data/test_set.csv'\n",
    "data_split = 0.7"
   ]
  },
  {
   "cell_type": "code",
   "execution_count": 2,
   "id": "bbbdd38e",
   "metadata": {},
   "outputs": [
    {
     "name": "stdout",
     "output_type": "stream",
     "text": [
      "Training SVM\n",
      "Time Taken: 1.6850647926330566s\n",
      "Training Accuracy: 99.80343102215869\n",
      "Validation Accuracy: 96.00665557404326\n"
     ]
    }
   ],
   "source": [
    "train_svm(train_data_path, data_split, 25, True, None, 'libsvm', 1, 'gaussian', 0.1)"
   ]
  },
  {
   "cell_type": "code",
   "execution_count": 3,
   "id": "4ff88930",
   "metadata": {},
   "outputs": [
    {
     "name": "stdout",
     "output_type": "stream",
     "text": [
      "Training SVM\n",
      "Time Taken: 2.731423854827881s\n",
      "Training Accuracy: 99.85000000000001\n",
      "Test outputs written in results/res.csv\n"
     ]
    }
   ],
   "source": [
    "test_preds = train_test_svm(train_data_path, test_data_path, 25, 1, 'gaussian', 0.1)\n",
    "utils.create_test_outputs(test_preds, 'results/res.csv')"
   ]
  },
  {
   "cell_type": "code",
   "execution_count": null,
   "id": "f0cb5a6a",
   "metadata": {},
   "outputs": [],
   "source": []
  }
 ],
 "metadata": {
  "kernelspec": {
   "display_name": "Python 3",
   "language": "python",
   "name": "python3"
  },
  "language_info": {
   "codemirror_mode": {
    "name": "ipython",
    "version": 3
   },
   "file_extension": ".py",
   "mimetype": "text/x-python",
   "name": "python",
   "nbconvert_exporter": "python",
   "pygments_lexer": "ipython3",
   "version": "3.8.8"
  }
 },
 "nbformat": 4,
 "nbformat_minor": 5
}
