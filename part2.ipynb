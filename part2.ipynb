{
 "cells": [
  {
   "cell_type": "code",
   "execution_count": 9,
   "id": "34b633b7",
   "metadata": {},
   "outputs": [],
   "source": [
    "from tqdm import tqdm\n",
    "import numpy as np\n",
    "import utils\n",
    "from trainer import train_svm, train_test_svm\n",
    "\n",
    "train_data_path = 'data/train_set.csv'\n",
    "test_data_path = 'data/test_set.csv'\n",
    "data_split = 0.7"
   ]
  },
  {
   "cell_type": "code",
   "execution_count": 10,
   "id": "bbbdd38e",
   "metadata": {},
   "outputs": [
    {
     "name": "stderr",
     "output_type": "stream",
     "text": [
      "100%|██████████| 42/42 [03:10<00:00,  4.53s/it]\n"
     ]
    }
   ],
   "source": [
    "gamma = np.array([1e-2, 5e-2, 1e-1, 5e-1, 1, 5, 10])\n",
    "c_list = np.array([2, 4, 8, 10, 12, 14])\n",
    "\n",
    "params = np.array(np.meshgrid(gamma, c_list)).T.reshape(-1,2)\n",
    "v_acc = []\n",
    "max_acc, c_max, g_max = 0, None, None\n",
    "for p in tqdm(params):\n",
    "    g, c = p[0], p[1]\n",
    "    train_acc, valid_acc = train_svm(train_data_path, data_split, 25, True, None, 'libsvm', c, 'gaussian', g, True)\n",
    "    v_acc.append(valid_acc)\n",
    "    if valid_acc > max_acc:\n",
    "        max_acc = valid_acc\n",
    "        c_max, g_max = c, g"
   ]
  },
  {
   "cell_type": "code",
   "execution_count": 8,
   "id": "7bb6239e",
   "metadata": {},
   "outputs": [
    {
     "name": "stdout",
     "output_type": "stream",
     "text": [
      "0.05 4.0 96.71381031613977\n"
     ]
    }
   ],
   "source": [
    "print(g_max, c_max, max_acc)"
   ]
  },
  {
   "cell_type": "code",
   "execution_count": 3,
   "id": "4ff88930",
   "metadata": {},
   "outputs": [
    {
     "name": "stdout",
     "output_type": "stream",
     "text": [
      "Training SVM\n",
      "Time Taken: 2.731423854827881s\n",
      "Training Accuracy: 99.85000000000001\n",
      "Test outputs written in results/res.csv\n"
     ]
    }
   ],
   "source": [
    "test_preds = train_test_svm(train_data_path, test_data_path, 25, 1, 'gaussian', 5)\n",
    "utils.create_test_outputs(test_preds, 'results/res.csv')"
   ]
  },
  {
   "cell_type": "code",
   "execution_count": 4,
   "id": "f0cb5a6a",
   "metadata": {},
   "outputs": [
    {
     "data": {
      "text/plain": [
       "array([ 0.1, 10. ])"
      ]
     },
     "execution_count": 4,
     "metadata": {},
     "output_type": "execute_result"
    }
   ],
   "source": [
    "params[13]"
   ]
  },
  {
   "cell_type": "code",
   "execution_count": null,
   "id": "5a01c007",
   "metadata": {},
   "outputs": [],
   "source": []
  }
 ],
 "metadata": {
  "kernelspec": {
   "display_name": "Python 3",
   "language": "python",
   "name": "python3"
  },
  "language_info": {
   "codemirror_mode": {
    "name": "ipython",
    "version": 3
   },
   "file_extension": ".py",
   "mimetype": "text/x-python",
   "name": "python",
   "nbconvert_exporter": "python",
   "pygments_lexer": "ipython3",
   "version": "3.8.8"
  }
 },
 "nbformat": 4,
 "nbformat_minor": 5
}
