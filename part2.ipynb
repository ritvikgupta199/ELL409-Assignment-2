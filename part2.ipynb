{
 "cells": [
  {
   "cell_type": "code",
   "execution_count": 1,
   "id": "34b633b7",
   "metadata": {},
   "outputs": [],
   "source": [
    "from tqdm import tqdm\n",
    "import numpy as np\n",
    "import matplotlib.pyplot as plt\n",
    "import utils\n",
    "from trainer import train_svm, train_test_svm\n",
    "\n",
    "train_data_path = 'data/train_set.csv'\n",
    "test_data_path = 'data/test_set.csv'\n",
    "data_split = 0.7"
   ]
  },
  {
   "cell_type": "code",
   "execution_count": 2,
   "id": "ada4cfbc",
   "metadata": {},
   "outputs": [
    {
     "name": "stderr",
     "output_type": "stream",
     "text": [
      "100%|██████████| 9/9 [01:33<00:00, 10.37s/it]\n"
     ]
    }
   ],
   "source": [
    "log = np.linspace(-3,3,9)\n",
    "c_list = 10**log\n",
    "\n",
    "t_acc, v_acc = [], []\n",
    "max_acc, c_max = 0, None\n",
    "for c in tqdm(c_list):\n",
    "    train_acc, valid_acc = train_svm(train_data_path, data_split, 25, True, None, 'libsvm', c, 'linear', None, True)\n",
    "    t_acc.append(train_acc)\n",
    "    v_acc.append(valid_acc)\n",
    "    if valid_acc > max_acc:\n",
    "        max_acc, c_max = valid_acc, c"
   ]
  },
  {
   "cell_type": "code",
   "execution_count": 3,
   "id": "d01e4d7d",
   "metadata": {},
   "outputs": [
    {
     "name": "stdout",
     "output_type": "stream",
     "text": [
      "C = 0.03162277660168379\n",
      "Highest Validation Accuracy: 91.47254575707154\n"
     ]
    }
   ],
   "source": [
    "print(f'C = {c_max}')\n",
    "print(f'Highest Validation Accuracy: {max_acc}')"
   ]
  },
  {
   "cell_type": "code",
   "execution_count": 4,
   "id": "6787cedd",
   "metadata": {},
   "outputs": [
    {
     "data": {
      "image/png": "[encoded data removed]",
      "text/plain": [
       "<Figure size 432x288 with 1 Axes>"
      ]
     },
     "metadata": {
      "needs_background": "light"
     },
     "output_type": "display_data"
    }
   ],
   "source": [
    "plt.plot(log, t_acc, label='Training Accuracy')\n",
    "plt.plot(log, v_acc, label='Validation Accuracy')\n",
    "plt.ylabel('Accuracy (\\%)')\n",
    "plt.xlabel('log(C)')\n",
    "plt.legend()\n",
    "plt.show()"
   ]
  },
  {
   "cell_type": "code",
   "execution_count": 5,
   "id": "8ca3db4b",
   "metadata": {},
   "outputs": [
    {
     "name": "stdout",
     "output_type": "stream",
     "text": [
      "Training SVM\n",
      "Time Taken: 0.3761260509490967s\n",
      "Training Accuracy: 92.17298070050036\n",
      "Validation Accuracy: 91.51414309484193\n"
     ]
    }
   ],
   "source": [
    "c = 0.04\n",
    "train_acc, valid_acc = train_svm(train_data_path, data_split, 25, True, None, 'libsvm', c, 'linear', None, False)"
   ]
  },
  {
   "cell_type": "code",
   "execution_count": 6,
   "id": "98b6a476",
   "metadata": {},
   "outputs": [
    {
     "name": "stdout",
     "output_type": "stream",
     "text": [
      "Training SVM\n",
      "Time Taken: 0.5680809020996094s\n",
      "Training Accuracy: 92.72500000000001\n",
      "Test outputs written in results/res_linear.csv\n"
     ]
    }
   ],
   "source": [
    "test_preds = train_test_svm(train_data_path, test_data_path, 25, c, 'linear', None)\n",
    "utils.create_test_outputs(test_preds, 'results/res_linear.csv')"
   ]
  },
  {
   "cell_type": "code",
   "execution_count": 7,
   "id": "bbbdd38e",
   "metadata": {},
   "outputs": [
    {
     "name": "stderr",
     "output_type": "stream",
     "text": [
      "100%|██████████| 42/42 [03:19<00:00,  4.76s/it]\n"
     ]
    }
   ],
   "source": [
    "gamma = np.array([1e-2, 5e-2, 1e-1, 5e-1, 1, 5, 10])\n",
    "c_list = np.array([2, 4, 8, 10, 12, 14])\n",
    "\n",
    "params = np.array(np.meshgrid(gamma, c_list)).T.reshape(-1,2)\n",
    "v_acc = []\n",
    "max_acc, c_max, g_max = 0, None, None\n",
    "for p in tqdm(params):\n",
    "    g, c = p[0], p[1]\n",
    "    train_acc, valid_acc = train_svm(train_data_path, data_split, 25, True, None, 'libsvm', c, 'gaussian', g, True)\n",
    "    v_acc.append(valid_acc)\n",
    "    if valid_acc > max_acc:\n",
    "        max_acc = valid_acc\n",
    "        c_max, g_max = c, g"
   ]
  },
  {
   "cell_type": "code",
   "execution_count": 8,
   "id": "7bb6239e",
   "metadata": {},
   "outputs": [
    {
     "name": "stdout",
     "output_type": "stream",
     "text": [
      "C = 4.0\n",
      "γ = 0.05\n",
      "Highest Validation Accuracy: 96.71381031613977\n"
     ]
    }
   ],
   "source": [
    "print(f'C = {c_max}')\n",
    "print(f'\\u03B3 = {g_max}')\n",
    "print(f'Highest Validation Accuracy: {max_acc}')"
   ]
  },
  {
   "cell_type": "code",
   "execution_count": 9,
   "id": "4ff88930",
   "metadata": {},
   "outputs": [
    {
     "name": "stdout",
     "output_type": "stream",
     "text": [
      "Training SVM\n",
      "Time Taken: 1.1872482299804688s\n",
      "Training Accuracy: 99.97500000000001\n",
      "Test outputs written in results/res_gaussian.csv\n"
     ]
    }
   ],
   "source": [
    "test_preds = train_test_svm(train_data_path, test_data_path, 25, c_max, 'gaussian', g_max)\n",
    "utils.create_test_outputs(test_preds, 'results/res_gaussian.csv')"
   ]
  },
  {
   "cell_type": "code",
   "execution_count": null,
   "id": "688f5e8e",
   "metadata": {},
   "outputs": [],
   "source": []
  }
 ],
 "metadata": {
  "kernelspec": {
   "display_name": "Python 3",
   "language": "python",
   "name": "python3"
  },
  "language_info": {
   "codemirror_mode": {
    "name": "ipython",
    "version": 3
   },
   "file_extension": ".py",
   "mimetype": "text/x-python",
   "name": "python",
   "nbconvert_exporter": "python",
   "pygments_lexer": "ipython3",
   "version": "3.8.8"
  }
 },
 "nbformat": 4,
 "nbformat_minor": 5
}
